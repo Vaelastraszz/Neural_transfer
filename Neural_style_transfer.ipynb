{
  "nbformat": 4,
  "nbformat_minor": 0,
  "metadata": {
    "colab": {
      "name": "Neural style transfer.ipynb",
      "provenance": [],
      "collapsed_sections": [],
      "include_colab_link": true
    },
    "kernelspec": {
      "name": "python3",
      "display_name": "Python 3"
    },
    "accelerator": "GPU"
  },
  "cells": [
    {
      "cell_type": "markdown",
      "metadata": {
        "id": "view-in-github",
        "colab_type": "text"
      },
      "source": [
        "<a href=\"https://colab.research.google.com/github/Vaelastraszz/Neural_transfer/blob/master/Neural_style_transfer.ipynb\" target=\"_parent\"><img src=\"https://colab.research.google.com/assets/colab-badge.svg\" alt=\"Open In Colab\"/></a>"
      ]
    },
    {
      "cell_type": "code",
      "metadata": {
        "id": "jxleejHZT8dO",
        "colab_type": "code",
        "outputId": "06f70db2-0aaf-4238-c012-8b2df191d0b6",
        "colab": {
          "base_uri": "https://localhost:8080/",
          "height": 122
        }
      },
      "source": [
        "import sys\n",
        "import pandas as pd\n",
        "import matplotlib.pyplot as plt\n",
        "import numpy as np\n",
        "\n",
        "from google.colab import drive\n",
        "\n",
        "drive.mount('/content/gdrive')"
      ],
      "execution_count": 0,
      "outputs": [
        {
          "output_type": "stream",
          "text": [
            "Go to this URL in a browser: https://accounts.google.com/o/oauth2/auth?client_id=947318989803-6bn6qk8qdgf4n4g3pfee6491hc0brc4i.apps.googleusercontent.com&redirect_uri=urn%3Aietf%3Awg%3Aoauth%3A2.0%3Aoob&scope=email%20https%3A%2F%2Fwww.googleapis.com%2Fauth%2Fdocs.test%20https%3A%2F%2Fwww.googleapis.com%2Fauth%2Fdrive%20https%3A%2F%2Fwww.googleapis.com%2Fauth%2Fdrive.photos.readonly%20https%3A%2F%2Fwww.googleapis.com%2Fauth%2Fpeopleapi.readonly&response_type=code\n",
            "\n",
            "Enter your authorization code:\n",
            "··········\n",
            "Mounted at /content/gdrive\n"
          ],
          "name": "stdout"
        }
      ]
    },
    {
      "cell_type": "markdown",
      "metadata": {
        "id": "QaUBio8eZS9r",
        "colab_type": "text"
      },
      "source": [
        "<h3> Loading images </h3>"
      ]
    },
    {
      "cell_type": "code",
      "metadata": {
        "id": "k2NwZjI3U7dC",
        "colab_type": "code",
        "outputId": "1103034d-b852-4880-b4a5-ff747ba163ef",
        "colab": {
          "base_uri": "https://localhost:8080/",
          "height": 34
        }
      },
      "source": [
        "from keras.preprocessing.image import load_img, img_to_array"
      ],
      "execution_count": 0,
      "outputs": [
        {
          "output_type": "stream",
          "text": [
            "Using TensorFlow backend.\n"
          ],
          "name": "stderr"
        }
      ]
    },
    {
      "cell_type": "code",
      "metadata": {
        "id": "-ZbEXXdoV7S_",
        "colab_type": "code",
        "colab": {}
      },
      "source": [
        "target_image_path = '/content/gdrive/My Drive/Dream/mbappe.jpg'\n",
        "style_reference_image_path = '/content/gdrive/My Drive/Dream/scream.jpg'"
      ],
      "execution_count": 0,
      "outputs": []
    },
    {
      "cell_type": "code",
      "metadata": {
        "id": "mYWH8K_NYCCO",
        "colab_type": "code",
        "colab": {}
      },
      "source": [
        "width, height = load_img(target_image_path).size\n",
        "img_height = 400\n",
        "img_width = int(width * img_height / height)"
      ],
      "execution_count": 0,
      "outputs": []
    },
    {
      "cell_type": "markdown",
      "metadata": {
        "id": "Xw5gfD3aZazm",
        "colab_type": "text"
      },
      "source": [
        "<h3> Preprocessign img </h3>"
      ]
    },
    {
      "cell_type": "code",
      "metadata": {
        "id": "1jaqzD1BZd1k",
        "colab_type": "code",
        "colab": {}
      },
      "source": [
        "from keras.applications import vgg19"
      ],
      "execution_count": 0,
      "outputs": []
    },
    {
      "cell_type": "code",
      "metadata": {
        "id": "WZJKDn8KZmzM",
        "colab_type": "code",
        "colab": {}
      },
      "source": [
        "def preprocess_img(img_path):\n",
        "    \n",
        "    img = load_img(img_path,target_size = (img_height,img_width) )\n",
        "    img = img_to_array(img)\n",
        "    img = np.expand_dims(img, axis=0)\n",
        "    img = vgg19.preprocess_input(img)\n",
        "    \n",
        "    return img"
      ],
      "execution_count": 0,
      "outputs": []
    },
    {
      "cell_type": "code",
      "metadata": {
        "id": "mBtq9q-JeGPj",
        "colab_type": "code",
        "colab": {}
      },
      "source": [
        "def deprocess_img(x):\n",
        "    x[:,:, 0] += 103.939\n",
        "    x[:,:, 1] += 116.779\n",
        "    x[:,:, 2] += 123.68\n",
        "    x = x[:,:, ::-1]\n",
        "    x = np.clip(x, 0, 255).astype('uint8')\n",
        "    return x\n",
        "    "
      ],
      "execution_count": 0,
      "outputs": []
    },
    {
      "cell_type": "markdown",
      "metadata": {
        "id": "Fw51CF7SqubI",
        "colab_type": "text"
      },
      "source": [
        "<h3> Loading pre trained vgg19 et appliquer aux trois images </h3>"
      ]
    },
    {
      "cell_type": "code",
      "metadata": {
        "id": "fLWyRFPeq-wg",
        "colab_type": "code",
        "colab": {}
      },
      "source": [
        "from keras import backend as K"
      ],
      "execution_count": 0,
      "outputs": []
    },
    {
      "cell_type": "code",
      "metadata": {
        "id": "C-_Fbiw8rEyn",
        "colab_type": "code",
        "outputId": "06f0a071-251d-4b02-8c5f-a51b8e805eb2",
        "colab": {
          "base_uri": "https://localhost:8080/",
          "height": 88
        }
      },
      "source": [
        "target_image = K.constant(preprocess_img(target_image_path))\n",
        "style_reference_image = K.constant(preprocess_img(style_reference_image_path))\n",
        "combination_image = K.placeholder((1,img_height,img_width,3))"
      ],
      "execution_count": 0,
      "outputs": [
        {
          "output_type": "stream",
          "text": [
            "WARNING: Logging before flag parsing goes to stderr.\n",
            "W0623 21:26:16.146383 140607923914624 deprecation_wrapper.py:119] From /usr/local/lib/python3.6/dist-packages/keras/backend/tensorflow_backend.py:517: The name tf.placeholder is deprecated. Please use tf.compat.v1.placeholder instead.\n",
            "\n"
          ],
          "name": "stderr"
        }
      ]
    },
    {
      "cell_type": "code",
      "metadata": {
        "id": "kIRUNrY9rm5N",
        "colab_type": "code",
        "colab": {}
      },
      "source": [
        "input_tensor = K.concatenate([target_image,style_reference_image,combination_image], axis=0)"
      ],
      "execution_count": 0,
      "outputs": []
    },
    {
      "cell_type": "code",
      "metadata": {
        "id": "cn64sjVYuDnj",
        "colab_type": "code",
        "outputId": "5f509653-312c-4604-8b74-1cb493202071",
        "colab": {
          "base_uri": "https://localhost:8080/",
          "height": 258
        }
      },
      "source": [
        "model = vgg19.VGG19(input_tensor = input_tensor, weights = 'imagenet', include_top = False)\n",
        "print(\"Model Loaded\")"
      ],
      "execution_count": 0,
      "outputs": [
        {
          "output_type": "stream",
          "text": [
            "W0623 21:26:18.961924 140607923914624 deprecation_wrapper.py:119] From /usr/local/lib/python3.6/dist-packages/keras/backend/tensorflow_backend.py:74: The name tf.get_default_graph is deprecated. Please use tf.compat.v1.get_default_graph instead.\n",
            "\n",
            "W0623 21:26:18.967717 140607923914624 deprecation_wrapper.py:119] From /usr/local/lib/python3.6/dist-packages/keras/backend/tensorflow_backend.py:4138: The name tf.random_uniform is deprecated. Please use tf.random.uniform instead.\n",
            "\n",
            "W0623 21:26:19.010872 140607923914624 deprecation_wrapper.py:119] From /usr/local/lib/python3.6/dist-packages/keras/backend/tensorflow_backend.py:3976: The name tf.nn.max_pool is deprecated. Please use tf.nn.max_pool2d instead.\n",
            "\n"
          ],
          "name": "stderr"
        },
        {
          "output_type": "stream",
          "text": [
            "Downloading data from https://github.com/fchollet/deep-learning-models/releases/download/v0.1/vgg19_weights_tf_dim_ordering_tf_kernels_notop.h5\n",
            "80142336/80134624 [==============================] - 5s 0us/step\n"
          ],
          "name": "stdout"
        },
        {
          "output_type": "stream",
          "text": [
            "W0623 21:26:25.582750 140607923914624 deprecation_wrapper.py:119] From /usr/local/lib/python3.6/dist-packages/keras/backend/tensorflow_backend.py:174: The name tf.get_default_session is deprecated. Please use tf.compat.v1.get_default_session instead.\n",
            "\n",
            "W0623 21:26:25.583976 140607923914624 deprecation_wrapper.py:119] From /usr/local/lib/python3.6/dist-packages/keras/backend/tensorflow_backend.py:181: The name tf.ConfigProto is deprecated. Please use tf.compat.v1.ConfigProto instead.\n",
            "\n"
          ],
          "name": "stderr"
        },
        {
          "output_type": "stream",
          "text": [
            "Model Loaded\n"
          ],
          "name": "stdout"
        }
      ]
    },
    {
      "cell_type": "markdown",
      "metadata": {
        "id": "2Ak66-XFsY8D",
        "colab_type": "text"
      },
      "source": [
        "<h3> Content loss <h3>"
      ]
    },
    {
      "cell_type": "code",
      "metadata": {
        "id": "sLjmWbKLr-fU",
        "colab_type": "code",
        "colab": {}
      },
      "source": [
        "def content_loss(base, combination):\n",
        "    return K.sum(K.square(combination - base))"
      ],
      "execution_count": 0,
      "outputs": []
    },
    {
      "cell_type": "markdown",
      "metadata": {
        "id": "ILqEgTD5t0W6",
        "colab_type": "text"
      },
      "source": [
        "<h3> Style loss </h3>"
      ]
    },
    {
      "cell_type": "code",
      "metadata": {
        "id": "D6UxTYx0s8XR",
        "colab_type": "code",
        "colab": {}
      },
      "source": [
        "def gram_matrix(x):\n",
        "    features = K.batch_flatten(K.permute_dimensions(x, (2,0,1)))\n",
        "    gram = K.dot(features, K.transpose(features))\n",
        "    return gram"
      ],
      "execution_count": 0,
      "outputs": []
    },
    {
      "cell_type": "code",
      "metadata": {
        "id": "CnSCg7mrtu8O",
        "colab_type": "code",
        "colab": {}
      },
      "source": [
        "def style_loss(style, combination):\n",
        "    S = gram_matrix(style)\n",
        "    C = gram_matrix(combination)\n",
        "    channels = 3\n",
        "    size = img_height*img_width\n",
        "    return K.sum(K.square(C-S)) / (4 * (channels**2) * (size**2))"
      ],
      "execution_count": 0,
      "outputs": []
    },
    {
      "cell_type": "markdown",
      "metadata": {
        "id": "9MmeeiLQvO91",
        "colab_type": "text"
      },
      "source": [
        "<h3> Total variation loss </h3>"
      ]
    },
    {
      "cell_type": "code",
      "metadata": {
        "id": "lQjFets3vKIN",
        "colab_type": "code",
        "colab": {}
      },
      "source": [
        "def total_variation_loss(x):\n",
        "    a = K.square(\n",
        "    x[:,:img_height - 1, :img_width - 1, :] -  x[:,1:, :img_width - 1, :])\n",
        "    \n",
        "    b = K.square(\n",
        "    x[:,:img_height - 1, :img_width - 1, :] -  x[:,1:, 1:, :])\n",
        "    \n",
        "    return K.sum(K.pow(a+b, 1.25))"
      ],
      "execution_count": 0,
      "outputs": []
    },
    {
      "cell_type": "markdown",
      "metadata": {
        "id": "q3RL6Lp-yTdd",
        "colab_type": "text"
      },
      "source": [
        "<h3> Final loss </h3>"
      ]
    },
    {
      "cell_type": "code",
      "metadata": {
        "id": "4Bjeje27wL3H",
        "colab_type": "code",
        "colab": {}
      },
      "source": [
        "outputs_dict = dict([(layer.name, layer.output) for layer in model.layers])"
      ],
      "execution_count": 0,
      "outputs": []
    },
    {
      "cell_type": "code",
      "metadata": {
        "id": "0Eqv4F7fzA_n",
        "colab_type": "code",
        "colab": {}
      },
      "source": [
        "content_layer = 'block5_conv2'"
      ],
      "execution_count": 0,
      "outputs": []
    },
    {
      "cell_type": "markdown",
      "metadata": {
        "id": "eziyIBKw0UMs",
        "colab_type": "text"
      },
      "source": [
        "high level feature to compute the loss for the content loss"
      ]
    },
    {
      "cell_type": "code",
      "metadata": {
        "id": "MbTR7oHLzDhY",
        "colab_type": "code",
        "colab": {}
      },
      "source": [
        "style_layers = ['block1_conv1',\n",
        "               'block2_conv1',\n",
        "               'block3_conv1',\n",
        "               'block4_conv1',\n",
        "               'block5_conv1']"
      ],
      "execution_count": 0,
      "outputs": []
    },
    {
      "cell_type": "markdown",
      "metadata": {
        "id": "zdWjd_t50aAi",
        "colab_type": "text"
      },
      "source": [
        "finding pattern from the style image from the lowest to highest convnet block"
      ]
    },
    {
      "cell_type": "code",
      "metadata": {
        "id": "tdvw0x0gzcYQ",
        "colab_type": "code",
        "colab": {}
      },
      "source": [
        "total_variation_weight = 1e-4\n",
        "style_weight = 1.\n",
        "content_weight = 0.025"
      ],
      "execution_count": 0,
      "outputs": []
    },
    {
      "cell_type": "code",
      "metadata": {
        "id": "eljlygLPz6ph",
        "colab_type": "code",
        "outputId": "db3b64d8-20b8-46e7-e89c-b05a7c1d1696",
        "colab": {
          "base_uri": "https://localhost:8080/",
          "height": 54
        }
      },
      "source": [
        "loss = K.variable(0.)\n",
        "layer_features = outputs_dict[content_layer]\n",
        "target_image_features = layer_features[0, :,:,:]\n",
        "combination_features = layer_features[2, :, :, :]\n",
        "loss+= content_weight * content_loss(target_image_features,combination_features)"
      ],
      "execution_count": 0,
      "outputs": [
        {
          "output_type": "stream",
          "text": [
            "W0623 21:26:46.394394 140607923914624 variables.py:2429] Variable += will be deprecated. Use variable.assign_add if you want assignment to the variable value or 'x = x + y' if you want a new python Tensor object.\n"
          ],
          "name": "stderr"
        }
      ]
    },
    {
      "cell_type": "code",
      "metadata": {
        "id": "OnArfYP20RWD",
        "colab_type": "code",
        "colab": {}
      },
      "source": [
        "for layer_name in style_layers:\n",
        "    layer_features = outputs_dict[layer_name]\n",
        "    style_reference_features = layer_features[1, :,:,:]\n",
        "    combination_features = layer_features[2, :, :, :]\n",
        "    s1 = style_loss(style_reference_features,combination_features)\n",
        "    loss+= (style_weight/ len(style_layers)) * s1\n"
      ],
      "execution_count": 0,
      "outputs": []
    },
    {
      "cell_type": "code",
      "metadata": {
        "id": "OhU8_LwR12NJ",
        "colab_type": "code",
        "colab": {}
      },
      "source": [
        "loss += total_variation_weight * total_variation_loss(combination_image)"
      ],
      "execution_count": 0,
      "outputs": []
    },
    {
      "cell_type": "markdown",
      "metadata": {
        "id": "w4gTRtjq2J8c",
        "colab_type": "text"
      },
      "source": [
        "<h3> Setting up gradient descent process </h3>"
      ]
    },
    {
      "cell_type": "code",
      "metadata": {
        "id": "SEfTZ17f2HwW",
        "colab_type": "code",
        "outputId": "0c6003e6-4976-42b4-fb2b-a2f0ae967d53",
        "colab": {
          "base_uri": "https://localhost:8080/",
          "height": 88
        }
      },
      "source": [
        "grads = K.gradients(loss, combination_image)[0]"
      ],
      "execution_count": 0,
      "outputs": [
        {
          "output_type": "stream",
          "text": [
            "W0623 21:26:55.353736 140607923914624 deprecation.py:323] From /usr/local/lib/python3.6/dist-packages/tensorflow/python/ops/math_grad.py:1205: add_dispatch_support.<locals>.wrapper (from tensorflow.python.ops.array_ops) is deprecated and will be removed in a future version.\n",
            "Instructions for updating:\n",
            "Use tf.where in 2.0, which has the same broadcast rule as np.where\n"
          ],
          "name": "stderr"
        }
      ]
    },
    {
      "cell_type": "code",
      "metadata": {
        "id": "s6irjntR2rnk",
        "colab_type": "code",
        "colab": {}
      },
      "source": [
        "fetch_loss_and_grads = K.function([combination_image], [loss,grads])"
      ],
      "execution_count": 0,
      "outputs": []
    },
    {
      "cell_type": "code",
      "metadata": {
        "id": "72M6ruIS2vce",
        "colab_type": "code",
        "colab": {}
      },
      "source": [
        "class Evaluator(object):\n",
        "    \n",
        "    def __init__(self):\n",
        "        self.loss_value = None\n",
        "        self.grads_values = None\n",
        "        \n",
        "    def loss(self,x):\n",
        "        assert self.loss_value is None\n",
        "        \n",
        "        x=x.reshape((1, img_height, img_width, 3))\n",
        "        outs = fetch_loss_and_grads([x])\n",
        "        loss_value = outs[0]\n",
        "        grad_values = outs[1].flatten().astype('float64')\n",
        "        self.loss_value = loss_value\n",
        "        self.grads_values = grad_values\n",
        "        \n",
        "        return self.loss_value\n",
        "    \n",
        "    def grads(self,x):\n",
        "        \n",
        "        assert self.loss_value is not None\n",
        "        grad_values = np.copy(self.grads_values)\n",
        "        self.loss_value = None\n",
        "        self.grads_values = None\n",
        "        \n",
        "        return grad_values"
      ],
      "execution_count": 0,
      "outputs": []
    },
    {
      "cell_type": "code",
      "metadata": {
        "id": "DUTwdhbG42vt",
        "colab_type": "code",
        "colab": {}
      },
      "source": [
        "evaluator = Evaluator()"
      ],
      "execution_count": 0,
      "outputs": []
    },
    {
      "cell_type": "markdown",
      "metadata": {
        "id": "fKvuihxA47a0",
        "colab_type": "text"
      },
      "source": [
        "<h3> Style transfer loop </h3>"
      ]
    },
    {
      "cell_type": "code",
      "metadata": {
        "id": "mAPJBBKs45hR",
        "colab_type": "code",
        "colab": {}
      },
      "source": [
        "from scipy.optimize import fmin_l_bfgs_b\n",
        "import imageio\n",
        "import time\n",
        "#imageio.imwrite('filename.jpg', array)"
      ],
      "execution_count": 0,
      "outputs": []
    },
    {
      "cell_type": "code",
      "metadata": {
        "id": "wwWn8me95ZB6",
        "colab_type": "code",
        "colab": {}
      },
      "source": [
        "result_prefix = 'my_result'\n",
        "iterations = 30"
      ],
      "execution_count": 0,
      "outputs": []
    },
    {
      "cell_type": "code",
      "metadata": {
        "id": "6n7UrU1H7ShS",
        "colab_type": "code",
        "outputId": "874bdebe-069e-4b81-f13f-a3ec03c98dde",
        "colab": {
          "base_uri": "https://localhost:8080/",
          "height": 2057
        }
      },
      "source": [
        "x = preprocess_img(target_image_path)\n",
        "x = x.flatten()\n",
        "for i in range(iterations):\n",
        "    print('Start of iteration', i)\n",
        "    start_time=time.time()\n",
        "    x, min_val, info = fmin_l_bfgs_b(evaluator.loss, x, fprime=evaluator.grads, maxfun=20)\n",
        "    print('Current loss value:', min_val)\n",
        "    img = x.copy().reshape((img_height,img_width, 3))\n",
        "    img = deprocess_img(img)\n",
        "    fname = result_prefix + '_at_iteration_%d.png' % i\n",
        "    imageio.imwrite('/content/gdrive/My Drive/Dream/'+fname, img)\n",
        "    print(\"Image saved as\", fname)\n",
        "    end_time = time.time()\n",
        "    print('Iteration %d completed in %ds'%(i, end_time - start_time))"
      ],
      "execution_count": 0,
      "outputs": [
        {
          "output_type": "stream",
          "text": [
            "Start of iteration 0\n",
            "Current loss value: 965760900.0\n",
            "Image saved as my_result_at_iteration_0.png\n",
            "Iteration 0 completed in 15s\n",
            "Start of iteration 1\n",
            "Current loss value: 467370700.0\n",
            "Image saved as my_result_at_iteration_1.png\n",
            "Iteration 1 completed in 8s\n",
            "Start of iteration 2\n",
            "Current loss value: 323383100.0\n",
            "Image saved as my_result_at_iteration_2.png\n",
            "Iteration 2 completed in 9s\n",
            "Start of iteration 3\n",
            "Current loss value: 257713550.0\n",
            "Image saved as my_result_at_iteration_3.png\n",
            "Iteration 3 completed in 9s\n",
            "Start of iteration 4\n",
            "Current loss value: 219491260.0\n",
            "Image saved as my_result_at_iteration_4.png\n",
            "Iteration 4 completed in 9s\n",
            "Start of iteration 5\n",
            "Current loss value: 194629090.0\n",
            "Image saved as my_result_at_iteration_5.png\n",
            "Iteration 5 completed in 9s\n",
            "Start of iteration 6\n",
            "Current loss value: 177063860.0\n",
            "Image saved as my_result_at_iteration_6.png\n",
            "Iteration 6 completed in 9s\n",
            "Start of iteration 7\n",
            "Current loss value: 160876750.0\n",
            "Image saved as my_result_at_iteration_7.png\n",
            "Iteration 7 completed in 9s\n",
            "Start of iteration 8\n",
            "Current loss value: 147976800.0\n",
            "Image saved as my_result_at_iteration_8.png\n",
            "Iteration 8 completed in 9s\n",
            "Start of iteration 9\n",
            "Current loss value: 137003490.0\n",
            "Image saved as my_result_at_iteration_9.png\n",
            "Iteration 9 completed in 9s\n",
            "Start of iteration 10\n",
            "Current loss value: 128427260.0\n",
            "Image saved as my_result_at_iteration_10.png\n",
            "Iteration 10 completed in 9s\n",
            "Start of iteration 11\n",
            "Current loss value: 119855570.0\n",
            "Image saved as my_result_at_iteration_11.png\n",
            "Iteration 11 completed in 9s\n",
            "Start of iteration 12\n",
            "Current loss value: 112907080.0\n",
            "Image saved as my_result_at_iteration_12.png\n",
            "Iteration 12 completed in 9s\n",
            "Start of iteration 13\n",
            "Current loss value: 106863620.0\n",
            "Image saved as my_result_at_iteration_13.png\n",
            "Iteration 13 completed in 9s\n",
            "Start of iteration 14\n",
            "Current loss value: 101031540.0\n",
            "Image saved as my_result_at_iteration_14.png\n",
            "Iteration 14 completed in 9s\n",
            "Start of iteration 15\n",
            "Current loss value: 96133784.0\n",
            "Image saved as my_result_at_iteration_15.png\n",
            "Iteration 15 completed in 9s\n",
            "Start of iteration 16\n",
            "Current loss value: 92312184.0\n",
            "Image saved as my_result_at_iteration_16.png\n",
            "Iteration 16 completed in 9s\n",
            "Start of iteration 17\n",
            "Current loss value: 87900960.0\n",
            "Image saved as my_result_at_iteration_17.png\n",
            "Iteration 17 completed in 9s\n",
            "Start of iteration 18\n",
            "Current loss value: 84022580.0\n",
            "Image saved as my_result_at_iteration_18.png\n",
            "Iteration 18 completed in 9s\n",
            "Start of iteration 19\n",
            "Current loss value: 80913790.0\n",
            "Image saved as my_result_at_iteration_19.png\n",
            "Iteration 19 completed in 9s\n",
            "Start of iteration 20\n",
            "Current loss value: 78354950.0\n",
            "Image saved as my_result_at_iteration_20.png\n",
            "Iteration 20 completed in 9s\n",
            "Start of iteration 21\n",
            "Current loss value: 75517336.0\n",
            "Image saved as my_result_at_iteration_21.png\n",
            "Iteration 21 completed in 9s\n",
            "Start of iteration 22\n",
            "Current loss value: 73133220.0\n",
            "Image saved as my_result_at_iteration_22.png\n",
            "Iteration 22 completed in 9s\n",
            "Start of iteration 23\n",
            "Current loss value: 71212200.0\n",
            "Image saved as my_result_at_iteration_23.png\n",
            "Iteration 23 completed in 9s\n",
            "Start of iteration 24\n",
            "Current loss value: 69056744.0\n",
            "Image saved as my_result_at_iteration_24.png\n",
            "Iteration 24 completed in 9s\n",
            "Start of iteration 25\n",
            "Current loss value: 66972000.0\n",
            "Image saved as my_result_at_iteration_25.png\n",
            "Iteration 25 completed in 9s\n",
            "Start of iteration 26\n",
            "Current loss value: 65209692.0\n",
            "Image saved as my_result_at_iteration_26.png\n",
            "Iteration 26 completed in 9s\n",
            "Start of iteration 27\n",
            "Current loss value: 63659044.0\n",
            "Image saved as my_result_at_iteration_27.png\n",
            "Iteration 27 completed in 9s\n",
            "Start of iteration 28\n",
            "Current loss value: 61891380.0\n",
            "Image saved as my_result_at_iteration_28.png\n",
            "Iteration 28 completed in 9s\n",
            "Start of iteration 29\n",
            "Current loss value: 60452180.0\n",
            "Image saved as my_result_at_iteration_29.png\n",
            "Iteration 29 completed in 9s\n"
          ],
          "name": "stdout"
        }
      ]
    },
    {
      "cell_type": "code",
      "metadata": {
        "id": "gj2uBPz89NoD",
        "colab_type": "code",
        "colab": {}
      },
      "source": [
        ""
      ],
      "execution_count": 0,
      "outputs": []
    }
  ]
}